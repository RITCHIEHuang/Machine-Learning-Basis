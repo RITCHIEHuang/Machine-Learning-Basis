{
 "cells": [
  {
   "cell_type": "markdown",
   "metadata": {},
   "source": [
    "# 2.3 性能度量\n",
    "性能度量： 衡量模型泛化能力的度量标准\n",
    "\n",
    "预测任务中，给定样例集 $D = \\left\\{(x_1, y_1), (x_2, y_2), \\cdots , (x_m, y_m) \\right\\}$, $y_i$ 是 $x_i$ 的标签。\n",
    "给定学习模型$f$, 衡量学习模型$f$的性能, 即比较$f$与$y$.\n",
    "\n",
    "回归任务常用误差度量: 均方差 (Mean Squared Error)\n",
    "$$\n",
    "E(f ; D)=\\frac{1}{m} \\sum_{i=1}^{m}\\left(f\\left(\\boldsymbol{x}_{i}\\right)-y_{i}\\right)^{2}\n",
    "$$\n",
    "\n",
    "对于数据分布$\\mathcal{D}$和概率密度函数$p(\\cdot)$:\n",
    "$$\n",
    "E(f ; \\mathcal{D})=\\int_{\\boldsymbol{x} \\sim \\mathcal{D}}(f(\\boldsymbol{x})-y)^{2} p(\\boldsymbol{x}) \\mathrm{d} \\boldsymbol{x}\n",
    "$$\n",
    "\n",
    "\n",
    "## 1.错误率与精度\n",
    "错误率:\n",
    "$$\n",
    "E(f ; D) = \\frac{1}{m} \\sum_{i=1}^{m}\\mathbb{I}\\left(f(\\boldsymbol{x_i}) \\neq y_i \\right)\n",
    "$$\n",
    "精度:\n",
    "$$\n",
    "\\begin{aligned} \\operatorname{Acc}(f ; D) &=\\frac{1}{m} \\sum_{i=1}^{m} \\mathbb{I}\\left(f\\left(\\boldsymbol{x}_{i}\\right)=y_{i}\\right) \\\\ &=1-E(f ; D) \\end{aligned}\n",
    "$$\n",
    "\n",
    "\n",
    "## 2. 混淆矩阵\n",
    "\n",
    "\n",
    "|真实\\预测| 正例 | 反例 |\n",
    "|--------|-----|-----|\n",
    "|正例| TP | FN |\n",
    "|反例 |FP | TN |\n",
    "\n",
    "根据混淆矩阵定义了:\n",
    "1. 查准率:\n",
    "$$\n",
    "Precision = \\frac{TP}{TP + FP}\n",
    "$$\n",
    "2. 查全率:\n",
    "$$\n",
    "Recall = \\frac{TP}{TP + FN}\n",
    "$$\n",
    "\n",
    "PR图: ![PR图](P-R图.png)\n",
    "\n",
    "分析：\n",
    "P-R图中曲线$B$包住了曲线$C$，因此对应的模型$B$优于$C$.\n"
   ]
  },
  {
   "cell_type": "code",
   "execution_count": null,
   "metadata": {},
   "outputs": [],
   "source": []
  }
 ],
 "metadata": {
  "kernelspec": {
   "display_name": "Python 3",
   "language": "python",
   "name": "python3"
  },
  "language_info": {
   "codemirror_mode": {
    "name": "ipython",
    "version": 3
   },
   "file_extension": ".py",
   "mimetype": "text/x-python",
   "name": "python",
   "nbconvert_exporter": "python",
   "pygments_lexer": "ipython3",
   "version": "3.7.1"
  }
 },
 "nbformat": 4,
 "nbformat_minor": 2
}
